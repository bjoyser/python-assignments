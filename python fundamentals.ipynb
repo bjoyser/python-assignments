{
 "cells": [
  {
   "cell_type": "code",
   "execution_count": 3,
   "id": "91ee1a00-c720-4ffc-b745-9ba1af22db0e",
   "metadata": {},
   "outputs": [
    {
     "name": "stdout",
     "output_type": "stream",
     "text": [
      "Sharil Ps\n",
      "ST7007\n",
      "sharilether@gmail.com\n"
     ]
    }
   ],
   "source": [
    " #EXERCISE 1\n",
    "print(\"Sharil Ps\")\n",
    "print(\"ST7007\")\n",
    "print(\"sharilether@gmail.com\")"
   ]
  },
  {
   "cell_type": "code",
   "execution_count": 9,
   "id": "77f436c7-fee9-4cef-82e0-b87aa00b09bd",
   "metadata": {},
   "outputs": [
    {
     "name": "stdout",
     "output_type": "stream",
     "text": [
      "Sharil Ps\n",
      "ST7007\n",
      "sharilether@gmail.com\n"
     ]
    }
   ],
   "source": [
    " #EXERCISE 2\n",
    "print(\"Sharil Ps\\nST7007\\nsharilether@gmail.com\")"
   ]
  },
  {
   "cell_type": "code",
   "execution_count": 11,
   "id": "10005ac5-89fc-4f5f-9b07-e53d04b249fc",
   "metadata": {},
   "outputs": [
    {
     "name": "stdout",
     "output_type": "stream",
     "text": [
      "14 + 7 = 21\n",
      "14 - 7 = 7\n",
      "14 * 7 = 98\n",
      "14 / 7 = 2.0\n"
     ]
    }
   ],
   "source": [
    " #EXERCISE 3\n",
    "num1 = 14\n",
    "num2 = 7\n",
    "print(f\"{num1} + {num2} = {num1 + num2}\")\n",
    "print(f\"{num1} - {num2} = {num1 - num2}\")\n",
    "print(f\"{num1} * {num2} = {num1 * num2}\")\n",
    "print(f\"{num1} / {num2} = {num1 / num2}\")"
   ]
  },
  {
   "cell_type": "code",
   "execution_count": 13,
   "id": "759d3321-4209-4aad-99a4-a1cd9e10f022",
   "metadata": {},
   "outputs": [
    {
     "name": "stdout",
     "output_type": "stream",
     "text": [
      "1\n",
      "2\n",
      "3\n",
      "4\n",
      "5\n"
     ]
    }
   ],
   "source": [
    "# EXERCISE 4\n",
    "for i in range(1, 6):\n",
    "    print(i)"
   ]
  },
  {
   "cell_type": "code",
   "execution_count": 15,
   "id": "20fb22be-6650-4e51-acf1-e4b80536cf6c",
   "metadata": {},
   "outputs": [
    {
     "name": "stdout",
     "output_type": "stream",
     "text": [
      "\"SDK\" stands for \"Software Development Kit\",\n",
      "\"IDE\" stands for \"Integrated Development Environment\".\n"
     ]
    }
   ],
   "source": [
    "# EXERCISE 5\n",
    "print('\"SDK\" stands for \"Software Development Kit\",\\n\"IDE\" stands for \"Integrated Development Environment\".')"
   ]
  },
  {
   "cell_type": "code",
   "execution_count": 19,
   "id": "bbc1e722-b432-4a67-ab5f-565b71963a43",
   "metadata": {},
   "outputs": [
    {
     "name": "stdout",
     "output_type": "stream",
     "text": [
      "python is an \"awesome\" language.\n",
      "python\n",
      "\t2023\n",
      "I'm from Entri\n",
      "5\n",
      "e\n",
      "Entri\n",
      "2023\n",
      "Entr2023\n",
      "Entri*20"
     ]
    }
   ],
   "source": [
    "# EXERCISE 6\n",
    "print(\"python is an \\\"awesome\\\" language.\")\n",
    "print(\"python\\n\\t2023\")\n",
    "print('I\\'m from Entri.\\b')\n",
    "print(\"\\65\")\n",
    "print(\"\\x65\")\n",
    "print(\"Entri\", \"2023\", sep=\"\\n\")\n",
    "print(\"Entri\", \"2023\", sep=\"\\b\")\n",
    "print(\"Entri\", \"2023\", sep=\"*\", end=\"\\b\\b\\b\\b\")"
   ]
  },
  {
   "cell_type": "code",
   "execution_count": 21,
   "id": "72cf4ca8-3d15-4998-817c-73718be14bb3",
   "metadata": {},
   "outputs": [
    {
     "name": "stdout",
     "output_type": "stream",
     "text": [
      "<class 'int'>\n",
      "<class 'str'>\n",
      "<class 'float'>\n",
      "Sum: 178.3\n",
      "Type of sum: <class 'float'>\n"
     ]
    }
   ],
   "source": [
    "# EXERCISE 7\n",
    "num = 23\n",
    "textnum = \"57\"\n",
    "decimal = 98.3\n",
    "\n",
    "# Printing types\n",
    "print(type(num))\n",
    "print(type(textnum))\n",
    "print(type(decimal))\n",
    "\n",
    "# Converting and summing\n",
    "total = num + int(textnum) + decimal\n",
    "print(\"Sum:\", total)\n",
    "print(\"Type of sum:\", type(total))"
   ]
  },
  {
   "cell_type": "code",
   "execution_count": 23,
   "id": "c9633218-a3a2-441d-b605-a5369c5f6b2a",
   "metadata": {},
   "outputs": [
    {
     "name": "stdout",
     "output_type": "stream",
     "text": [
      "The total number of minutes in a year is 525600.\n"
     ]
    }
   ],
   "source": [
    "# EXERCISE 8\n",
    "# Define variables\n",
    "days_in_year = 365\n",
    "hours_in_day = 24\n",
    "minutes_in_hour = 60\n",
    "\n",
    "# Calculate total minutes\n",
    "total_minutes = days_in_year * hours_in_day * minutes_in_hour\n",
    "\n",
    "# Print the result\n",
    "print(f\"The total number of minutes in a year is {total_minutes}.\")"
   ]
  },
  {
   "cell_type": "code",
   "execution_count": 25,
   "id": "f45ef9ca-e8f0-4abb-9cd6-1a5acfde4cde",
   "metadata": {},
   "outputs": [
    {
     "name": "stdin",
     "output_type": "stream",
     "text": [
      "Please enter your name:  sharil ps\n"
     ]
    },
    {
     "name": "stdout",
     "output_type": "stream",
     "text": [
      "Hi sharil ps, welcome to Python programming :)\n"
     ]
    }
   ],
   "source": [
    "# EXERCISE 9\n",
    "name = input(\"Please enter your name: \")\n",
    "print(f\"Hi {name}, welcome to Python programming :)\")\n"
   ]
  },
  {
   "cell_type": "code",
   "execution_count": 27,
   "id": "2371edbe-8e87-4843-9c9f-a428c045f322",
   "metadata": {},
   "outputs": [
    {
     "name": "stdin",
     "output_type": "stream",
     "text": [
      "Please enter amount in Pounds:  100\n"
     ]
    },
    {
     "name": "stdout",
     "output_type": "stream",
     "text": [
      "£ 100.0 are $ 130.00\n"
     ]
    }
   ],
   "source": [
    "# EXERCISE 10\n",
    "# Conversion rate (example: 1 pound = 1.3 dollars)\n",
    "conversion_rate = 1.3\n",
    "\n",
    "# Get user input\n",
    "pounds = float(input(\"Please enter amount in Pounds: \"))\n",
    "\n",
    "# Calculate and display\n",
    "dollars = pounds * conversion_rate\n",
    "print(f\"£ {pounds} are $ {dollars:.2f}\")"
   ]
  },
  {
   "cell_type": "code",
   "execution_count": null,
   "id": "68b1609e-8d3a-48d9-99fa-272636acded7",
   "metadata": {},
   "outputs": [],
   "source": []
  }
 ],
 "metadata": {
  "kernelspec": {
   "display_name": "Python [conda env:base] *",
   "language": "python",
   "name": "conda-base-py"
  },
  "language_info": {
   "codemirror_mode": {
    "name": "ipython",
    "version": 3
   },
   "file_extension": ".py",
   "mimetype": "text/x-python",
   "name": "python",
   "nbconvert_exporter": "python",
   "pygments_lexer": "ipython3",
   "version": "3.12.7"
  }
 },
 "nbformat": 4,
 "nbformat_minor": 5
}
