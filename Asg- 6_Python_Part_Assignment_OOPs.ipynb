{
 "cells": [
  {
   "cell_type": "code",
   "execution_count": 1,
   "id": "863c15f1-0ede-4a40-9a55-c4a4c762b4cf",
   "metadata": {},
   "outputs": [],
   "source": [
    "# course catalog using oops\n",
    "class Course:\n",
    "    def __init__(self, course_code, course_name, credit_hours):\n",
    "        self.course_code = course_code\n",
    "        self.course_name = course_name\n",
    "        self.credit_hours = credit_hours\n",
    "\n",
    "    def display_info(self):\n",
    "        print(f\"Course Code: {self.course_code}\")\n",
    "        print(f\"Course Name: {self.course_name}\")\n",
    "        print(f\"Credit Hours: {self.credit_hours}\")\n",
    "    "
   ]
  },
  {
   "cell_type": "code",
   "execution_count": 3,
   "id": "ca9e146b-c070-4ebe-9d37-fde69714352d",
   "metadata": {},
   "outputs": [],
   "source": [
    "# Subclass for Core Course\n",
    "class CoreCourse(Course):\n",
    "    def __init__(self, course_code, course_name, credit_hours, required_for_major):\n",
    "        super().__init__(course_code, course_name, credit_hours)\n",
    "        self.required_for_major = required_for_major\n",
    "\n",
    "    def display_info(self):\n",
    "        super().display_info()\n",
    "        print(f\"Required for Major: {'Yes' if self.required_for_major else 'No'}\")\n",
    "\n",
    "# Subclass for Elective Course\n",
    "class ElectiveCourse(Course):\n",
    "    def __init__(self, course_code, course_name, credit_hours, elective_type):\n",
    "        super().__init__(course_code, course_name, credit_hours)\n",
    "        self.elective_type = elective_type\n",
    "\n",
    "    def display_info(self):\n",
    "        super().display_info()\n",
    "        print(f\"Elective Type: {self.elective_type}\")"
   ]
  },
  {
   "cell_type": "code",
   "execution_count": 5,
   "id": "38784ba3-1a14-423f-a343-f4c979899225",
   "metadata": {},
   "outputs": [
    {
     "name": "stdout",
     "output_type": "stream",
     "text": [
      "Core Course Details:\n",
      "Course Code: CS101\n",
      "Course Name: Introduction to Computer Science\n",
      "Credit Hours: 3\n",
      "Required for Major: Yes\n",
      "\n",
      "Elective Course Details:\n",
      "Course Code: ENG201\n",
      "Course Name: Creative Writing\n",
      "Credit Hours: 2\n",
      "Elective Type: liberal arts\n"
     ]
    }
   ],
   "source": [
    "# Example usage:\n",
    "core_course = CoreCourse(\"CS101\", \"Introduction to Computer Science\", 3, True)\n",
    "elective_course = ElectiveCourse(\"ENG201\", \"Creative Writing\", 2, \"liberal arts\")\n",
    "\n",
    "print(\"Core Course Details:\")\n",
    "core_course.display_info()\n",
    "\n",
    "print(\"\\nElective Course Details:\")\n",
    "elective_course.display_info()"
   ]
  },
  {
   "cell_type": "code",
   "execution_count": 7,
   "id": "fdb051c5-bbe9-4d38-afac-8ec543328b1b",
   "metadata": {},
   "outputs": [],
   "source": [
    "# creating employee name and salary class\n",
    "class Employee:\n",
    "    def __init__(self, name, salary):\n",
    "        self.name = name\n",
    "        self.salary = salary\n",
    "\n",
    "    def get_name(self):\n",
    "        return self.name\n",
    "\n",
    "    def get_salary(self):\n",
    "        return self.salary"
   ]
  },
  {
   "cell_type": "code",
   "execution_count": null,
   "id": "ee860697-d4e6-4869-b936-f54a63ada69f",
   "metadata": {},
   "outputs": [],
   "source": [
    "employees = {\n",
    "    \"Sharil ps\": Employee(\"Sharil ps\", 50000),\n",
    "    \"Alice Smith\": Employee(\"Alice Smith\", 60000),\n",
    "    \"Bob Williams\": Employee(\"Bob Williams\", 55000)\n",
    "}\n",
    "\n",
    "# Displaying all employees\n",
    "for name, emp in employees.items():\n",
    "    print(f\"Name: {emp.get_name()} -----  Salary: {emp.get_salary()}$\")"
   ]
  }
 ],
 "metadata": {
  "kernelspec": {
   "display_name": "Python [conda env:base] *",
   "language": "python",
   "name": "conda-base-py"
  },
  "language_info": {
   "codemirror_mode": {
    "name": "ipython",
    "version": 3
   },
   "file_extension": ".py",
   "mimetype": "text/x-python",
   "name": "python",
   "nbconvert_exporter": "python",
   "pygments_lexer": "ipython3",
   "version": "3.12.7"
  }
 },
 "nbformat": 4,
 "nbformat_minor": 5
}
