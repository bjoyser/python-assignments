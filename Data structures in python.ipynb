{
 "cells": [
  {
   "cell_type": "code",
   "execution_count": 3,
   "id": "fd70d0c7-7af6-42e2-91b5-7b3f69a946ff",
   "metadata": {},
   "outputs": [
    {
     "name": "stdout",
     "output_type": "stream",
     "text": [
      "Random List: [75, 56, 62, 47, 82]\n"
     ]
    }
   ],
   "source": [
    "# TOPIC: List\n",
    "# Excercise 1\n",
    "# Q1: list of 5 random numbers and print the list\n",
    "import random\n",
    "\n",
    "random_numbers = [random.randint(1, 100) for _ in range(5)]\n",
    "print(\"Random List:\", random_numbers)"
   ]
  },
  {
   "cell_type": "code",
   "execution_count": 5,
   "id": "29abd066-6e74-478b-8893-b59288201b5d",
   "metadata": {},
   "outputs": [
    {
     "name": "stdout",
     "output_type": "stream",
     "text": [
      "Updated List: [75, 56, 62, 47, 82, 101, 102, 103]\n"
     ]
    }
   ],
   "source": [
    "# Q2. Insert 3 new values to the list and print the updated list\n",
    "random_numbers.extend([101, 102, 103])\n",
    "print(\"Updated List:\", random_numbers)"
   ]
  },
  {
   "cell_type": "code",
   "execution_count": 7,
   "id": "ba288869-ab15-4101-b6a9-753e3714330b",
   "metadata": {},
   "outputs": [
    {
     "name": "stdout",
     "output_type": "stream",
     "text": [
      "75\n",
      "56\n",
      "62\n",
      "47\n",
      "82\n",
      "101\n",
      "102\n",
      "103\n"
     ]
    }
   ],
   "source": [
    "# Q3. Use a for loop to print each element in the list\n",
    "for number in random_numbers:\n",
    "    print(number)"
   ]
  },
  {
   "cell_type": "code",
   "execution_count": 9,
   "id": "6d88c565-d385-44ef-bf45-6d84c1f66294",
   "metadata": {},
   "outputs": [
    {
     "name": "stdout",
     "output_type": "stream",
     "text": [
      "Name: John\n",
      "Age: 25\n",
      "Address: New York\n"
     ]
    }
   ],
   "source": [
    "# Topic: Dictionary\n",
    "# Excercise 2\n",
    "# Q1. Create a dictionary with keys 'name', 'age', and 'address'\n",
    "person = {'name': 'John', 'age': 25, 'address': 'New York'}\n",
    "print(\"Name:\",person['name'])\n",
    "print(\"Age:\",person['age'])\n",
    "print(\"Address:\",person['address'])"
   ]
  },
  {
   "cell_type": "code",
   "execution_count": 11,
   "id": "28d3bb20-734d-4d7c-a29b-4129fb31a8f6",
   "metadata": {},
   "outputs": [
    {
     "name": "stdout",
     "output_type": "stream",
     "text": [
      "Updated Dictionary: {'name': 'John', 'age': 25, 'address': 'New York', 'phone': '9876543210'}\n"
     ]
    }
   ],
   "source": [
    "# Q2. Add a new key-value pair with key 'phone'\n",
    "person['phone'] = '9876543210'\n",
    "print(\"Updated Dictionary:\", person)"
   ]
  },
  {
   "cell_type": "code",
   "execution_count": 13,
   "id": "6387475c-6e64-4a3f-9fc6-c0bf1d61cf8f",
   "metadata": {},
   "outputs": [
    {
     "name": "stdout",
     "output_type": "stream",
     "text": [
      "Set: {1, 2, 3, 4, 5}\n"
     ]
    }
   ],
   "source": [
    "# Topic: Set\n",
    "# Excercise 3\n",
    "# Q1. Create a set with values 1, 2, 3, 4, and 5\n",
    "numbers_set = {1, 2, 3, 4, 5}\n",
    "print(\"Set:\", numbers_set)"
   ]
  },
  {
   "cell_type": "code",
   "execution_count": 15,
   "id": "d0cdfa08-5652-49e3-a3b8-36ee0773745b",
   "metadata": {},
   "outputs": [
    {
     "name": "stdout",
     "output_type": "stream",
     "text": [
      "Set after adding 6: {1, 2, 3, 4, 5, 6}\n"
     ]
    }
   ],
   "source": [
    "# Q2. Add the value 6 to the set\n",
    "numbers_set.add(6)\n",
    "print(\"Set after adding 6:\", numbers_set)"
   ]
  },
  {
   "cell_type": "code",
   "execution_count": 17,
   "id": "e74f1c22-2ec5-485e-85bd-51315688a01d",
   "metadata": {},
   "outputs": [
    {
     "name": "stdout",
     "output_type": "stream",
     "text": [
      "Set after removing 3: {1, 2, 4, 5, 6}\n"
     ]
    }
   ],
   "source": [
    "# Q3. Remove the value 3 from the set\n",
    "numbers_set.discard(3)\n",
    "print(\"Set after removing 3:\", numbers_set)"
   ]
  },
  {
   "cell_type": "code",
   "execution_count": 19,
   "id": "2a23ccce-1dfa-4a70-ae80-e643a5c1678f",
   "metadata": {},
   "outputs": [
    {
     "name": "stdout",
     "output_type": "stream",
     "text": [
      "Tuple: (1, 2, 3, 4)\n"
     ]
    }
   ],
   "source": [
    "# Topic: Tuple\n",
    "# Excercise 3\n",
    "# Q1. Create a tuple with values 1, 2, 3, and 4\n",
    "numbers_tuple = (1, 2, 3, 4)\n",
    "print(\"Tuple:\", numbers_tuple)"
   ]
  },
  {
   "cell_type": "code",
   "execution_count": null,
   "id": "bcec1d8c-16d4-4dfd-83d5-af71f1667ca5",
   "metadata": {},
   "outputs": [],
   "source": []
  }
 ],
 "metadata": {
  "kernelspec": {
   "display_name": "Python [conda env:base] *",
   "language": "python",
   "name": "conda-base-py"
  },
  "language_info": {
   "codemirror_mode": {
    "name": "ipython",
    "version": 3
   },
   "file_extension": ".py",
   "mimetype": "text/x-python",
   "name": "python",
   "nbconvert_exporter": "python",
   "pygments_lexer": "ipython3",
   "version": "3.12.7"
  }
 },
 "nbformat": 4,
 "nbformat_minor": 5
}
