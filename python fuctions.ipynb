{
 "cells": [
  {
   "cell_type": "code",
   "execution_count": 1,
   "id": "bdeff0f3-9c34-4023-9402-1841c857f738",
   "metadata": {},
   "outputs": [
    {
     "name": "stdout",
     "output_type": "stream",
     "text": [
      "The length of the list is: 5\n"
     ]
    }
   ],
   "source": [
    "# Example of len() function\n",
    "my_list = [1, 2, 3, 4, 5]\n",
    "length = len(my_list)\n",
    "print(\"The length of the list is:\", length) "
   ]
  },
  {
   "cell_type": "code",
   "execution_count": 3,
   "id": "1d3c899b-c7fb-4466-8499-a3e54259508c",
   "metadata": {},
   "outputs": [
    {
     "name": "stdout",
     "output_type": "stream",
     "text": [
      "Hello, sharil!\n"
     ]
    }
   ],
   "source": [
    "# greeting msg\n",
    "def greet(name):\n",
    "    print(f\"Hello, {name}!\")\n",
    "greet(\"sharil\")"
   ]
  },
  {
   "cell_type": "code",
   "execution_count": 5,
   "id": "81e207b1-486b-42a5-ae39-40fcd799e801",
   "metadata": {},
   "outputs": [
    {
     "name": "stdout",
     "output_type": "stream",
     "text": [
      "The maximum value is: 8\n"
     ]
    }
   ],
   "source": [
    "# find the maximum number\n",
    "def find_maximum(numbers):\n",
    "    if not numbers:  \n",
    "        return None\n",
    "    max_value = numbers[0]\n",
    "    for num in numbers:\n",
    "        if num > max_value:\n",
    "            max_value = num\n",
    "    return max_value\n",
    "\n",
    "numbers = [3, 5, 7, 2, 8]\n",
    "print(\"The maximum value is:\", find_maximum(numbers))"
   ]
  },
  {
   "cell_type": "code",
   "execution_count": 7,
   "id": "4ee08bf4-0809-43b7-a86d-3372aad94fde",
   "metadata": {},
   "outputs": [
    {
     "name": "stdout",
     "output_type": "stream",
     "text": [
      "Local x: 5\n",
      "Global x: 10\n"
     ]
    }
   ],
   "source": [
    "#difference between local and global variables\n",
    "x = 10  # Global variable\n",
    "\n",
    "def my_function():\n",
    "    x = 5  # Local variable\n",
    "    print(\"Local x:\", x)\n",
    "\n",
    "my_function()\n",
    "print(\"Global x:\", x)"
   ]
  },
  {
   "cell_type": "code",
   "execution_count": 9,
   "id": "efacbf27-d3af-49c4-86b5-0b4ec3e03f9a",
   "metadata": {},
   "outputs": [
    {
     "name": "stdout",
     "output_type": "stream",
     "text": [
      "Area with default width: 50\n",
      "Area with given width: 70\n"
     ]
    }
   ],
   "source": [
    "#calculates the area of a rectangle with and without the width argument\n",
    "def calculate_area(length, width=5):\n",
    "    return length * width\n",
    "\n",
    "area1 = calculate_area(10) \n",
    "area2 = calculate_area(10, 7) \n",
    "\n",
    "print(\"Area with default width:\", area1)  \n",
    "print(\"Area with given width:\", area2)"
   ]
  },
  {
   "cell_type": "code",
   "execution_count": null,
   "id": "d58b3383-83a5-4c69-b59b-08293dbf8f3a",
   "metadata": {},
   "outputs": [],
   "source": []
  }
 ],
 "metadata": {
  "kernelspec": {
   "display_name": "Python [conda env:base] *",
   "language": "python",
   "name": "conda-base-py"
  },
  "language_info": {
   "codemirror_mode": {
    "name": "ipython",
    "version": 3
   },
   "file_extension": ".py",
   "mimetype": "text/x-python",
   "name": "python",
   "nbconvert_exporter": "python",
   "pygments_lexer": "ipython3",
   "version": "3.12.7"
  }
 },
 "nbformat": 4,
 "nbformat_minor": 5
}
